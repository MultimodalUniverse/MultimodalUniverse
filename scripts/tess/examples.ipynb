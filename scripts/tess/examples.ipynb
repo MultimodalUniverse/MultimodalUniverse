{
 "cells": [
  {
   "cell_type": "markdown",
   "metadata": {},
   "source": [
    "# Example notebooks for the pipelines"
   ]
  },
  {
   "cell_type": "markdown",
   "metadata": {},
   "source": [
    "## SPOC"
   ]
  },
  {
   "cell_type": "code",
   "execution_count": null,
   "metadata": {},
   "outputs": [],
   "source": [
    "from datasets import load_dataset\n",
    "from datasets.data_files import DataFilesPatternsDict\n",
    "import matplotlib.pyplot as plt \n",
    "import numpy as np"
   ]
  },
  {
   "cell_type": "code",
   "execution_count": null,
   "metadata": {},
   "outputs": [],
   "source": [
    "!python build_parent_sample.py --pipeline spoc -s 23 --data_path \"./spoc-tiny\" --hdf5_output_path \"./spoc-tiny\" --fits_output_path \"./spoc-tiny/fits\" --n_processes 6 --tiny"
   ]
  },
  {
   "cell_type": "code",
   "execution_count": null,
   "metadata": {},
   "outputs": [],
   "source": [
    "spoc = load_dataset(\"./tess.py\", name='spoc-tiny', trust_remote_code=True)\n",
    "spoc_dset = spoc.with_format('numpy')['train']"
   ]
  },
  {
   "cell_type": "code",
   "execution_count": 3,
   "metadata": {},
   "outputs": [],
   "source": [
    "dset = iter(spoc_dset)\n",
    "spoc_example = next(dset)"
   ]
  },
  {
   "cell_type": "code",
   "execution_count": null,
   "metadata": {},
   "outputs": [],
   "source": [
    "print(f\"The keys of the dataset are: {list(spoc_example.keys())}\")\n",
    "print(f\"The keys of the lightcurve are: {list(spoc_example['lightcurve'].keys())}\")"
   ]
  },
  {
   "cell_type": "code",
   "execution_count": null,
   "metadata": {},
   "outputs": [],
   "source": [
    "for i in range(5):\n",
    "    spoc_example = next(dset)\n",
    "    plt.errorbar(spoc_example['lightcurve']['time'], spoc_example['lightcurve']['flux'], yerr=spoc_example['lightcurve']['flux_err'], marker='o', alpha=0.6, ls='none', c='black')\n",
    "\n",
    "    plt.xlabel('Time [BJD]', fontsize=14)\n",
    "    plt.ylabel('Flux [e-/s]', fontsize=14)\n",
    "\n",
    "    plt.title(f\"SPOC ID: {spoc_example['object_id']}\")\n",
    "    plt.show()"
   ]
  },
  {
   "cell_type": "code",
   "execution_count": null,
   "metadata": {},
   "outputs": [],
   "source": []
  }
 ],
 "metadata": {
  "kernelspec": {
   "display_name": "astropile",
   "language": "python",
   "name": "python3"
  },
  "language_info": {
   "codemirror_mode": {
    "name": "ipython",
    "version": 3
   },
   "file_extension": ".py",
   "mimetype": "text/x-python",
   "name": "python",
   "nbconvert_exporter": "python",
   "pygments_lexer": "ipython3",
   "version": "3.10.14"
  }
 },
 "nbformat": 4,
 "nbformat_minor": 2
}
