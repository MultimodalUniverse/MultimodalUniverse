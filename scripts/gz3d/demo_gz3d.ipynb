{
 "cells": [
  {
   "cell_type": "code",
   "execution_count": null,
   "id": "c2f554dd",
   "metadata": {},
   "outputs": [],
   "source": [
    "!python build_parent_sample.py --limit 3"
   ]
  },
  {
   "cell_type": "code",
   "execution_count": null,
   "id": "962bd3fe",
   "metadata": {},
   "outputs": [],
   "source": [
    "from datasets import load_dataset\n",
    "import matplotlib.pyplot as plt\n",
    "import numpy as np\n",
    "import utils\n",
    "%matplotlib inline\n"
   ]
  },
  {
   "cell_type": "code",
   "execution_count": null,
   "id": "d87020b5",
   "metadata": {},
   "outputs": [],
   "source": [
    "gz3d = load_dataset('gz3d.py', trust_remote_code=True, split='train', streaming=True)\n",
    "gz3d = iter(gz3d.with_format('numpy'))\n"
   ]
  },
  {
   "cell_type": "code",
   "execution_count": null,
   "id": "83728ea5",
   "metadata": {},
   "outputs": [],
   "source": [
    "n_samples = 5\n",
    "\n",
    "for idx, data in enumerate(gz3d):\n",
    "    # inspect the entries\n",
    "    print(data['segmentation']['class'])\n",
    "    print(data['segmentation']['vote_fraction'])\n",
    "    for k, v in data.items():\n",
    "        if k == 'segmentation':\n",
    "            for _k, _v in v.items():\n",
    "                try:\n",
    "                    print(_k, _v if isinstance(_v, (int, float, str)) else float(_v))\n",
    "                except:\n",
    "                    print(_k, type(_v))\n",
    "        try:\n",
    "            print(k, v if isinstance(v, (int, float, str)) else float(v))\n",
    "        except:\n",
    "            print(k, type(v))\n",
    "    plt.imshow(data['image'].astype(np.int16), origin='lower')\n",
    "    plt.show()\n",
    "    utils.plot(data['segmentation'], origin='lower')\n",
    "    if idx + 1 >= 5:\n",
    "        break\n"
   ]
  },
  {
   "cell_type": "code",
   "execution_count": null,
   "id": "e6f15d5b",
   "metadata": {},
   "outputs": [],
   "source": [
    "print(f\"The maximum pixelwise votes (out of 15): {data[\"segmentation\"][\"array\"].max(axis=(1,2))}\")\n",
    "print(\"The class order: \", data[\"segmentation\"][\"class\"])\n",
    "print(\"The galaxy zoo vote fraction: \", data[\"segmentation\"][\"vote_fraction\"])\n"
   ]
  },
  {
   "cell_type": "code",
   "execution_count": null,
   "id": "5ea4948b",
   "metadata": {},
   "outputs": [],
   "source": [
    "data"
   ]
  }
 ],
 "metadata": {
  "kernelspec": {
   "display_name": "Python 3 (ipykernel)",
   "language": "python",
   "name": "python3"
  },
  "language_info": {
   "codemirror_mode": {
    "name": "ipython",
    "version": 3
   },
   "file_extension": ".py",
   "mimetype": "text/x-python",
   "name": "python",
   "nbconvert_exporter": "python",
   "pygments_lexer": "ipython3",
   "version": "3.12.2"
  }
 },
 "nbformat": 4,
 "nbformat_minor": 5
}
